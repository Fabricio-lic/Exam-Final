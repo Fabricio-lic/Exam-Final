{
  "metadata": {
    "language_info": {
      "codemirror_mode": {
        "name": "python",
        "version": 3
      },
      "file_extension": ".py",
      "mimetype": "text/x-python",
      "name": "python",
      "nbconvert_exporter": "python",
      "pygments_lexer": "ipython3",
      "version": "3.8"
    },
    "kernelspec": {
      "name": "python",
      "display_name": "Pyolite",
      "language": "python"
    }
  },
  "nbformat_minor": 4,
  "nbformat": 4,
  "cells": [
    {
      "cell_type": "markdown",
      "source": "# Exam Final ",
      "metadata": {}
    },
    {
      "cell_type": "markdown",
      "source": "## Introduction\n\nThe present work presents a total of tasks destined to provide exercises, with the objective of approving the course in question.",
      "metadata": {}
    },
    {
      "cell_type": "markdown",
      "source": "## The programming languages are described below:\nFirst of all, we recommend considering the languages Python, R, and SQL. However, other languages ​​like Scala, Java, C++, and Julia with specific features are also popular. JavaScript, PHP, Go, Ruby, and Visual Basic also have their own use cases. unique use.",
      "metadata": {}
    },
    {
      "cell_type": "markdown",
      "source": "## The main libraries are described below:\n1) ggplot2 is a popular library for data visualization in R.\n2) For machine learning, the Scikit-learn library contains tools for statistical modeling, including regression, classification, clustering, etc.\n3) Vegas is a Scala library for statistical data visualizations.\n4) NumPy is based on arrays and matrices, allowing you to apply mathematical functions to matrices\n5) Pandas offers data structures and tools for effective data cleansing, manipulation, and analysis.",
      "metadata": {}
    },
    {
      "cell_type": "markdown",
      "source": "## Data Science Tools\n\n| Python | SQl |\n| ------ | ----- |\n| Rstudio | Spark |\n| Java | Scala |\n| C++ | Ruby |\n| Visual Basic| PHP |\n\n\n\n",
      "metadata": {}
    },
    {
      "cell_type": "markdown",
      "source": "## Example arimetics: \n##### 3+3 or 4+4",
      "metadata": {}
    },
    {
      "cell_type": "code",
      "source": "3+3 ",
      "metadata": {
        "trusted": true
      },
      "execution_count": 15,
      "outputs": [
        {
          "execution_count": 15,
          "output_type": "execute_result",
          "data": {
            "text/plain": "6"
          },
          "metadata": {}
        }
      ]
    },
    {
      "cell_type": "code",
      "source": "4+4",
      "metadata": {
        "trusted": true
      },
      "execution_count": 16,
      "outputs": [
        {
          "execution_count": 16,
          "output_type": "execute_result",
          "data": {
            "text/plain": "8"
          },
          "metadata": {}
        }
      ]
    },
    {
      "cell_type": "code",
      "source": "5*5\n",
      "metadata": {
        "trusted": true
      },
      "execution_count": 17,
      "outputs": [
        {
          "execution_count": 17,
          "output_type": "execute_result",
          "data": {
            "text/plain": "25"
          },
          "metadata": {}
        }
      ]
    },
    {
      "cell_type": "markdown",
      "source": "## Objetivos:\n1. Learn Jupiter Notebooks\n2. Improve at work\n3. Gain knowledge",
      "metadata": {}
    },
    {
      "cell_type": "markdown",
      "source": "#### Autor: Miani Fabricio.",
      "metadata": {}
    }
  ]
}